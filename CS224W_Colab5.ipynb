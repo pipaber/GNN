{
  "nbformat": 4,
  "nbformat_minor": 0,
  "metadata": {
    "accelerator": "GPU",
    "colab": {
      "provenance": [],
      "machine_shape": "hm",
      "include_colab_link": true
    },
    "kernelspec": {
      "display_name": "Python 3",
      "language": "python",
      "name": "python3"
    },
    "language_info": {
      "codemirror_mode": {
        "name": "ipython",
        "version": 3
      },
      "file_extension": ".py",
      "mimetype": "text/x-python",
      "name": "python",
      "nbconvert_exporter": "python",
      "pygments_lexer": "ipython3",
      "version": "3.7.3"
    }
  },
  "cells": [
    {
      "cell_type": "markdown",
      "metadata": {
        "id": "view-in-github",
        "colab_type": "text"
      },
      "source": [
        "<a href=\"https://colab.research.google.com/github/pipaber/GNN/blob/main/CS224W_Colab5.ipynb\" target=\"_parent\"><img src=\"https://colab.research.google.com/assets/colab-badge.svg\" alt=\"Open In Colab\"/></a>"
      ]
    },
    {
      "cell_type": "markdown",
      "metadata": {
        "id": "XuXWJLEm2UWS"
      },
      "source": [
        "# **CS224W - Colab 5**"
      ]
    },
    {
      "cell_type": "markdown",
      "metadata": {
        "id": "8gzsP50bF6Gb"
      },
      "source": [
        "In this Colab, we will shift our focus from homogenous graphs to heterogeneous graphs. Heterogeneous graphs extend the traditional homogenous graphs that we have been working with by incorperating different node and edge types. This additional information allows us to extend the graph neural nework models that we have worked with before. Namely, we can apply heterogenous message passing, where different message types now exist between different node and edge type relationships.\n",
        "\n",
        "In this notebook, we will first learn how to transform NetworkX graphs into DeepSNAP representations. Then, we will dive deeper into how DeepSNAP stores and represents heterogeneous graphs as PyTorch Tensors.\n",
        "\n",
        "Lastly, we will build our own heterogenous graph neural netowrk models using PyTorch Geometric and DeepSNAP. We will then apply our models for a node property prediction task; specifically, we will evaluate these models on the heterogeneous ACM node prediction dataset.\n",
        "\n",
        "**Note**: Make sure to **sequentially run all the cells in each section**, so that the intermediate variables / packages will carry over to the next cell\n",
        "\n",
        "Have fun and good luck on Colab 5 :)"
      ]
    },
    {
      "cell_type": "markdown",
      "metadata": {
        "id": "MSaetj53YnT6"
      },
      "source": [
        "# Device\n",
        "You might need to use GPU for this Colab.\n",
        "\n",
        "Please click `Runtime` and then `Change runtime type`. Then set the `hardware accelerator` to **GPU**."
      ]
    },
    {
      "cell_type": "markdown",
      "metadata": {
        "id": "67gOQITlCNQi"
      },
      "source": [
        "# Installation"
      ]
    },
    {
      "cell_type": "code",
      "metadata": {
        "id": "J_m9l6OYCQZP",
        "colab": {
          "base_uri": "https://localhost:8080/"
        },
        "outputId": "4e62d243-c1a5-4c97-9609-a6d13d7a7ede"
      },
      "source": [
        "# Install torch geometric\n",
        "import os\n",
        "import torch\n",
        "if 'IS_GRADESCOPE_ENV' not in os.environ:\n",
        "  torch_version = str(torch.__version__)\n",
        "  scatter_src = f\"https://pytorch-geometric.com/whl/torch-{torch_version}.html\"\n",
        "  sparse_src = f\"https://pytorch-geometric.com/whl/torch-{torch_version}.html\"\n",
        "  !pip install torch-scatter -f $scatter_src\n",
        "  !pip install torch-sparse -f $sparse_src\n",
        "  !pip install torch-geometric\n",
        "  !pip install -q git+https://github.com/snap-stanford/deepsnap.git\n",
        "  !pip install -U -q PyDrive"
      ],
      "execution_count": 1,
      "outputs": [
        {
          "output_type": "stream",
          "name": "stdout",
          "text": [
            "Looking in indexes: https://pypi.org/simple, https://pypi.ngc.nvidia.com\n",
            "Looking in links: https://pytorch-geometric.com/whl/torch-2.3.0+cu121.html\n",
            "Requirement already satisfied: torch-scatter in c:\\users\\lenovo\\miniconda3\\envs\\piero\\lib\\site-packages (2.1.2+pt23cu121)\n",
            "Looking in indexes: https://pypi.org/simple, https://pypi.ngc.nvidia.com\n",
            "Looking in links: https://pytorch-geometric.com/whl/torch-2.3.0+cu121.html\n",
            "Requirement already satisfied: torch-sparse in c:\\users\\lenovo\\miniconda3\\envs\\piero\\lib\\site-packages (0.6.18+pt23cu121)\n",
            "Requirement already satisfied: scipy in c:\\users\\lenovo\\miniconda3\\envs\\piero\\lib\\site-packages (from torch-sparse) (1.13.0)\n",
            "Requirement already satisfied: numpy<2.3,>=1.22.4 in c:\\users\\lenovo\\miniconda3\\envs\\piero\\lib\\site-packages (from scipy->torch-sparse) (1.26.4)\n",
            "Looking in indexes: https://pypi.org/simple, https://pypi.ngc.nvidia.com\n",
            "Requirement already satisfied: torch-geometric in c:\\users\\lenovo\\miniconda3\\envs\\piero\\lib\\site-packages (2.5.3)\n",
            "Requirement already satisfied: tqdm in c:\\users\\lenovo\\miniconda3\\envs\\piero\\lib\\site-packages (from torch-geometric) (4.66.4)\n",
            "Requirement already satisfied: numpy in c:\\users\\lenovo\\miniconda3\\envs\\piero\\lib\\site-packages (from torch-geometric) (1.26.4)\n",
            "Requirement already satisfied: scipy in c:\\users\\lenovo\\miniconda3\\envs\\piero\\lib\\site-packages (from torch-geometric) (1.13.0)\n",
            "Requirement already satisfied: fsspec in c:\\users\\lenovo\\miniconda3\\envs\\piero\\lib\\site-packages (from torch-geometric) (2024.2.0)\n",
            "Requirement already satisfied: jinja2 in c:\\users\\lenovo\\miniconda3\\envs\\piero\\lib\\site-packages (from torch-geometric) (3.1.3)\n",
            "Requirement already satisfied: aiohttp in c:\\users\\lenovo\\miniconda3\\envs\\piero\\lib\\site-packages (from torch-geometric) (3.9.5)\n",
            "Requirement already satisfied: requests in c:\\users\\lenovo\\miniconda3\\envs\\piero\\lib\\site-packages (from torch-geometric) (2.31.0)\n",
            "Requirement already satisfied: pyparsing in c:\\users\\lenovo\\miniconda3\\envs\\piero\\lib\\site-packages (from torch-geometric) (3.1.2)\n",
            "Requirement already satisfied: scikit-learn in c:\\users\\lenovo\\miniconda3\\envs\\piero\\lib\\site-packages (from torch-geometric) (1.4.2)\n",
            "Requirement already satisfied: psutil>=5.8.0 in c:\\users\\lenovo\\miniconda3\\envs\\piero\\lib\\site-packages (from torch-geometric) (5.9.0)\n",
            "Requirement already satisfied: aiosignal>=1.1.2 in c:\\users\\lenovo\\miniconda3\\envs\\piero\\lib\\site-packages (from aiohttp->torch-geometric) (1.3.1)\n",
            "Requirement already satisfied: attrs>=17.3.0 in c:\\users\\lenovo\\miniconda3\\envs\\piero\\lib\\site-packages (from aiohttp->torch-geometric) (23.2.0)\n",
            "Requirement already satisfied: frozenlist>=1.1.1 in c:\\users\\lenovo\\miniconda3\\envs\\piero\\lib\\site-packages (from aiohttp->torch-geometric) (1.4.1)\n",
            "Requirement already satisfied: multidict<7.0,>=4.5 in c:\\users\\lenovo\\miniconda3\\envs\\piero\\lib\\site-packages (from aiohttp->torch-geometric) (6.0.5)\n",
            "Requirement already satisfied: yarl<2.0,>=1.0 in c:\\users\\lenovo\\miniconda3\\envs\\piero\\lib\\site-packages (from aiohttp->torch-geometric) (1.9.4)\n",
            "Requirement already satisfied: async-timeout<5.0,>=4.0 in c:\\users\\lenovo\\miniconda3\\envs\\piero\\lib\\site-packages (from aiohttp->torch-geometric) (4.0.3)\n",
            "Requirement already satisfied: MarkupSafe>=2.0 in c:\\users\\lenovo\\miniconda3\\envs\\piero\\lib\\site-packages (from jinja2->torch-geometric) (2.1.5)\n",
            "Requirement already satisfied: charset-normalizer<4,>=2 in c:\\users\\lenovo\\miniconda3\\envs\\piero\\lib\\site-packages (from requests->torch-geometric) (3.3.2)\n",
            "Requirement already satisfied: idna<4,>=2.5 in c:\\users\\lenovo\\miniconda3\\envs\\piero\\lib\\site-packages (from requests->torch-geometric) (3.7)\n",
            "Requirement already satisfied: urllib3<3,>=1.21.1 in c:\\users\\lenovo\\miniconda3\\envs\\piero\\lib\\site-packages (from requests->torch-geometric) (2.2.1)\n",
            "Requirement already satisfied: certifi>=2017.4.17 in c:\\users\\lenovo\\miniconda3\\envs\\piero\\lib\\site-packages (from requests->torch-geometric) (2024.2.2)\n",
            "Requirement already satisfied: joblib>=1.2.0 in c:\\users\\lenovo\\miniconda3\\envs\\piero\\lib\\site-packages (from scikit-learn->torch-geometric) (1.4.2)\n",
            "Requirement already satisfied: threadpoolctl>=2.0.0 in c:\\users\\lenovo\\miniconda3\\envs\\piero\\lib\\site-packages (from scikit-learn->torch-geometric) (3.5.0)\n",
            "Requirement already satisfied: colorama in c:\\users\\lenovo\\miniconda3\\envs\\piero\\lib\\site-packages (from tqdm->torch-geometric) (0.4.6)\n"
          ]
        },
        {
          "output_type": "stream",
          "name": "stderr",
          "text": [
            "  ERROR: Error [WinError 2] El sistema no puede encontrar el archivo especificado while executing command git version\n",
            "ERROR: Cannot find command 'git' - do you have 'git' installed and in your PATH?\n"
          ]
        }
      ]
    },
    {
      "cell_type": "code",
      "metadata": {
        "id": "Qpr0ThDgZmZV",
        "colab": {
          "base_uri": "https://localhost:8080/"
        },
        "outputId": "984f6005-d4da-4412-ab79-9dd6ee76747f"
      },
      "source": [
        "if 'IS_GRADESCOPE_ENV' not in os.environ:\n",
        "  !nvcc --version\n",
        "  !python -c \"import torch; print(torch.version.cuda)\""
      ],
      "execution_count": 8,
      "outputs": [
        {
          "output_type": "stream",
          "name": "stdout",
          "text": [
            "nvcc: NVIDIA (R) Cuda compiler driver\n",
            "Copyright (c) 2005-2023 NVIDIA Corporation\n",
            "Built on Wed_Feb__8_05:53:42_Coordinated_Universal_Time_2023\n",
            "Cuda compilation tools, release 12.1, V12.1.66\n",
            "Build cuda_12.1.r12.1/compiler.32415258_0\n",
            "12.1\n"
          ]
        }
      ]
    },
    {
      "cell_type": "code",
      "metadata": {
        "id": "PRfgbfTjCRD_",
        "colab": {
          "base_uri": "https://localhost:8080/"
        },
        "outputId": "6cfa9678-307c-443a-dc3b-ace0d203f2ef"
      },
      "source": [
        "if 'IS_GRADESCOPE_ENV' not in os.environ:\n",
        "  import torch\n",
        "  print(torch.__version__)\n",
        "  import torch_geometric\n",
        "  print(torch_geometric.__version__)"
      ],
      "execution_count": 7,
      "outputs": [
        {
          "output_type": "stream",
          "name": "stdout",
          "text": [
            "2.3.0+cu121\n",
            "2.5.3\n"
          ]
        }
      ]
    },
    {
      "cell_type": "markdown",
      "metadata": {
        "id": "JuCXmtthnlB4"
      },
      "source": [
        "# DeepSNAP Basics\n",
        "\n",
        "In previous Colabs we used both of graph class (NetworkX) and tensor (PyG) representations of graphs separately. The graph class `nx.Graph` provides rich analysis and manipulation functionalities, such as the clustering coefficient and PageRank. To feed the graph into the model, we need to transform the graph into tensor representations including edge tensor `edge_index` and node attributes tensors `x` and `y`. But only using tensors (as the graphs formatted in PyG `datasets` and `data`) will make many graph manipulations and analysis less efficient and harder. So, in this Colab we will use DeepSNAP which combines both representations and offers a full pipeline for GNN training / validation / testing.\n"
      ]
    },
    {
      "cell_type": "markdown",
      "metadata": {
        "id": "o6IJYWWonr9N"
      },
      "source": [
        "In general, [DeepSNAP](https://github.com/snap-stanford/deepsnap) is a Python library to assist efficient deep learning on graphs. DeepSNAP features in its support for flexible graph manipulation, standard pipeline, heterogeneous graphs and simple API.\n",
        "\n",
        "1. DeepSNAP is easy to be used for the sophisticated graph manipulations, such as feature computation, pretraining, subgraph extraction etc. during/before the training.\n",
        "2. In most frameworks, standard pipelines for node, edge, link, graph-level tasks under inductive or transductive settings are left to the user to code. In practice, there are additional design choices involved (such as how to split dataset for link prediction). DeepSNAP provides such a standard pipeline that greatly saves repetitive coding efforts, and enables fair comparision for models.\n",
        "3. Many real-world graphs are heterogeneous graphs. But packages support for heterogeneous graphs, including data storage and flexible message passing, is lacking. DeepSNAP provides an efficient and flexible heterogeneous graph that supports both the node and edge heterogeneity.\n",
        "\n",
        "[DeepSNAP](https://github.com/snap-stanford/deepsnap) is a newly released project and it is still under development. If you find any bugs or have any improvement ideas, feel free to raise issues or create pull requests on the GitHub directly :)\n",
        "\n",
        "In this Colab, we will focus on learning using Heterogeneous Graphs. Not many libraries are able to handle heterogeneous graphs, but DeepSNAP handles them quite elegantly, which is why we're introducing it here!"
      ]
    },
    {
      "cell_type": "markdown",
      "metadata": {
        "id": "ZoXlf4MtYrbz"
      },
      "source": [
        "# 1) DeepSNAP Heterogeneous Graph\n",
        "\n",
        "First, we will explore how to transform a NetworkX graph into the format supported by DeepSNAP.\n",
        "\n",
        "In DeepSNAP we have three levels of attributes. We can have **node level** attributes including `node_feature` and `node_label`. The other two levels of attributes are graph and edge attributes. The usage is similar to the node level one except that the feature becomes `edge_feature` or `graph_feature` and label becomes `edge_label` or `graph_label` etc.\n",
        "\n",
        "DeepSNAP extends its traditional graph representation to include heterogeneous graphs by including the following graph property features:  \n",
        "* `node_feature`: The feature of each node (`torch.tensor`)\n",
        "* `edge_feature`: The feature of each edge (`torch.tensor`)\n",
        "* `node_label`: The label of each node (`int`)\n",
        "* `node_type`: The node type of each node (`string`)\n",
        "* `edge_type`: The edge type of each edge (`string`)\n",
        "\n",
        "where the key **new** features we add are `node_type` and `edge_type`, which enables us to perform heterogenous message passing.\n",
        "\n",
        "For this first question we will work with the familiar [karate club graph](https://networkx.github.io/documentation/stable/auto_examples/graph/plot_karate_club.html) seen in Colab 1. To start, since each node in the graph belongs to one of two clubs (club \"Mr. Hi\" or club \"Officer\"), we will treat the club as the `node_type`. The code below demonstrates how to differentiate the nodes in the NetworkX graph.\n"
      ]
    },
    {
      "cell_type": "code",
      "metadata": {
        "id": "8LQ_z5gcBVA1",
        "colab": {
          "base_uri": "https://localhost:8080/",
          "height": 736
        },
        "outputId": "f4ae4764-1dce-4b85-c903-2c96a5ef1159"
      },
      "source": [
        "import networkx as nx\n",
        "from networkx.algorithms.community import greedy_modularity_communities\n",
        "import matplotlib.pyplot as plt\n",
        "import copy\n",
        "\n",
        "if 'IS_GRADESCOPE_ENV' not in os.environ:\n",
        "  from pylab import show\n",
        "  G = nx.karate_club_graph()\n",
        "  community_map = {}\n",
        "  for node in G.nodes(data=True):\n",
        "    if node[1][\"club\"] == \"Mr. Hi\":\n",
        "      community_map[node[0]] = 0\n",
        "    else:\n",
        "      community_map[node[0]] = 1\n",
        "  node_color = []\n",
        "  color_map = {0: 0, 1: 1}\n",
        "  node_color = [color_map[community_map[node]] for node in G.nodes()]\n",
        "  pos = nx.spring_layout(G)\n",
        "  plt.figure(figsize=(7, 7))\n",
        "  nx.draw(G, pos=pos, cmap=plt.get_cmap('coolwarm'), node_color=node_color)\n",
        "  show()"
      ],
      "execution_count": 76,
      "outputs": [
        {
          "output_type": "display_data",
          "data": {
            "text/plain": [
              "<Figure size 700x700 with 1 Axes>"
            ],
            "image/png": "[encoded data removed]"
          },
          "metadata": {}
        }
      ]
    },
    {
      "cell_type": "markdown",
      "metadata": {
        "id": "1JpFb9fTw1lg"
      },
      "source": [
        "### Question 1.1: Assigning Node Type and Node Features\n",
        "\n",
        "Using the `community_map` dictionary and graph `G` from above, add node attributes `node_type` and `node_label` to the graph G. Namely, for `node_type` assign nodes in the \"Mr. Hi\" club to a node type `n0` and nodes in club \"Officer\" a node type `n1`. Note: the node type should be a `string` property.\n",
        "\n",
        "Then for `node_label`, assign nodes in \"Mr. Hi\" club to a `node_label` `0` and nodes in club \"Officer\" a `node_label` of `1`.\n",
        "\n",
        "Lastly, assign every node the *tensor* feature vector $[1, 1, 1, 1, 1]$.\n",
        "\n",
        "**Hint**: Look at the NetworkX function `nx.classes.function.set_node_attributes`.\n",
        "\n",
        "**Note**: This question is not specifically graded but is important for later questions."
      ]
    },
    {
      "cell_type": "code",
      "metadata": {
        "id": "zev_hMJHJXK1",
        "colab": {
          "base_uri": "https://localhost:8080/"
        },
        "outputId": "6ac57fd8-1d08-4197-cc51-7c0986e30fa8"
      },
      "source": [
        "import torch\n",
        "\n",
        "def assign_node_types(G, community_map):\n",
        "  # TODO: Implement a function that takes in a NetworkX graph\n",
        "  # G and community map assignment (mapping node id --> 0/1 label)\n",
        "  # and adds 'node_type' as a node_attribute in G.\n",
        "\n",
        "  ############# Your code here ############\n",
        "  ## (~2 line of code) It's alright if you take up more lines!\n",
        "  ## Note\n",
        "  ## 1. Look up NetworkX `nx.classes.function.set_node_attributes`\n",
        "  ## 2. Look above for the two node type values!\n",
        "\n",
        "  community_map = {key: \"n\"+str(value) if isinstance(value, (int, float)) else value for key, value in community_map.items()}\n",
        "\n",
        "  nx.classes.function.set_node_attributes(G, community_map, \"node_type\")\n",
        "\n",
        "  #########################################\n",
        "\n",
        "def assign_node_labels(G, community_map):\n",
        "  # TODO: Implement a function that takes in a NetworkX graph\n",
        "  # G and community map assignment (mapping node id --> 0/1 label)\n",
        "  # and adds 'node_label' as a node_attribute in G.\n",
        "\n",
        "  ############# Your code here ############\n",
        "  ## (~2 line of code) It's alright if you take up more lines!\n",
        "  ## Note\n",
        "  ## 1. Look up NetworkX `nx.classes.function.set_node_attributes`\n",
        "\n",
        "  nx.classes.function.set_node_attributes(G, community_map, 'node_label')\n",
        "\n",
        "  #########################################\n",
        "\n",
        "def assign_node_features(G):\n",
        "  # TODO: Implement a function that takes in a NetworkX graph\n",
        "  # G and adds 'node_feature' as a node_attribute in G. Each node\n",
        "  # in the graph has the same feature vector - a torchtensor with\n",
        "  # data [1., 1., 1., 1., 1.]\n",
        "\n",
        "  ############# Your code here ############\n",
        "  ## (~2 line of code) It's alright if you take up more lines!\n",
        "  ## Note\n",
        "  ## 1. Look up NetworkX `nx.classes.function.set_node_attributes`\n",
        "\n",
        "  nx.classes.function.set_node_attributes(G, torch.tensor([1., 1., 1., 1., 1.]), 'node_feature')\n",
        "\n",
        "  #########################################\n",
        "\n",
        "if 'IS_GRADESCOPE_ENV' not in os.environ:\n",
        "  assign_node_types(G, community_map)\n",
        "  assign_node_labels(G, community_map)\n",
        "  assign_node_features(G)\n",
        "\n",
        "  # Explore node properties for the node with id: 20\n",
        "  node_id = 20\n",
        "  print (f\"Node {node_id} has properties:\", G.nodes(data=True)[node_id])"
      ],
      "execution_count": 77,
      "outputs": [
        {
          "output_type": "stream",
          "name": "stdout",
          "text": [
            "Node 20 has properties: {'club': 'Officer', 'node_type': 'n1', 'node_label': 1, 'node_feature': tensor([1., 1., 1., 1., 1.])}\n"
          ]
        }
      ]
    },
    {
      "cell_type": "markdown",
      "metadata": {
        "id": "mafN0P3EOhSb"
      },
      "source": [
        "### Question 1.2: Assigning Edge Types\n",
        "\n",
        "Next, we will assign three different `edge_types`:\n",
        "* Edges within club \"Mr. Hi\": `e0`\n",
        "* Edges within club \"Officer\": `e1`\n",
        "* Edges between the two clubs: `e2`\n",
        "\n",
        "**Hint**: Use the `community_map` from before and `nx.classes.function.set_edge_attributes`"
      ]
    },
    {
      "cell_type": "code",
      "metadata": {
        "id": "rsbYWEVwSV5n",
        "colab": {
          "base_uri": "https://localhost:8080/"
        },
        "outputId": "ab6f1d3c-4b63-4989-c4ba-d91839a3f63b"
      },
      "source": [
        "def assign_edge_types(G, community_map):\n",
        "  # TODO: Implement a function that takes in a NetworkX graph\n",
        "  # G and community map assignment (mapping node id --> 0/1 label)\n",
        "  # and adds 'edge_type' as a edge_attribute in G.\n",
        "\n",
        "  ############# Your code here ############\n",
        "  ## (~5 line of code) It's alright if you take up more lines!\n",
        "  ## Note\n",
        "  ## 1. Create an edge assignment dict following rules above\n",
        "  ## 2. Look up NetworkX `nx.classes.function.set_edge_attributes`\n",
        "\n",
        "  clubs = nx.get_node_attributes(G,\"club\")\n",
        "\n",
        "  edge_types = {}\n",
        "\n",
        "  for u, v in G.edges():\n",
        "    if clubs[u] == clubs[v]:\n",
        "      if community_map[u] == 0:\n",
        "        edge_types[(u, v)] = 'e0'\n",
        "      else:\n",
        "        edge_types[(u, v)] = 'e1'\n",
        "    else:\n",
        "      edge_types[(u, v)] = 'e2'\n",
        "\n",
        "  nx.set_edge_attributes(G, edge_types, name='edge_type')\n",
        "\n",
        "\n",
        "\n",
        "  #########################################\n",
        "\n",
        "if 'IS_GRADESCOPE_ENV' not in os.environ:\n",
        "  assign_edge_types(G, community_map)\n",
        "\n",
        "  # Explore edge properties for a sampled edge and check the corresponding\n",
        "  # node types\n",
        "  edge_idx = 15\n",
        "  n1 = 0\n",
        "  n2 = 31\n",
        "  edge = list(G.edges(data=True))[edge_idx]\n",
        "  print (f\"Edge ({edge[0]}, {edge[1]}) has properties:\", edge[2])\n",
        "  print (f\"Node {n1} has properties:\", G.nodes(data=True)[n1])\n",
        "  print (f\"Node {n2} has properties:\", G.nodes(data=True)[n2])"
      ],
      "execution_count": 81,
      "outputs": [
        {
          "output_type": "stream",
          "name": "stdout",
          "text": [
            "Edge (0, 31) has properties: {'weight': 2, 'edge_type': 'e2'}\n",
            "Node 0 has properties: {'club': 'Mr. Hi', 'node_type': 'n0', 'node_label': 0, 'node_feature': tensor([1., 1., 1., 1., 1.])}\n",
            "Node 31 has properties: {'club': 'Officer', 'node_type': 'n1', 'node_label': 1, 'node_feature': tensor([1., 1., 1., 1., 1.])}\n"
          ]
        }
      ]
    },
    {
      "cell_type": "markdown",
      "metadata": {
        "id": "VBsTdTPVTQ52"
      },
      "source": [
        "## Heterogeneous Graph Visualization\n",
        "\n",
        "Now we can visualize the Heterogeneous Graph we have generated."
      ]
    },
    {
      "cell_type": "code",
      "metadata": {
        "id": "n2sdufbODHtp"
      },
      "source": [
        "if 'IS_GRADESCOPE_ENV' not in os.environ:\n",
        "  edge_color = {}\n",
        "  for edge in G.edges():\n",
        "    n1, n2 = edge\n",
        "    edge_color[edge] = community_map[n1] if community_map[n1] == community_map[n2] else 2\n",
        "    if community_map[n1] == community_map[n2] and community_map[n1] == 0:\n",
        "      edge_color[edge] = 'blue'\n",
        "    elif community_map[n1] == community_map[n2] and community_map[n1] == 1:\n",
        "      edge_color[edge] = 'red'\n",
        "    else:\n",
        "      edge_color[edge] = 'green'\n",
        "\n",
        "  G_orig = copy.deepcopy(G)\n",
        "  nx.classes.function.set_edge_attributes(G, edge_color, name='color')\n",
        "  colors = nx.get_edge_attributes(G,'color').values()\n",
        "  labels = nx.get_node_attributes(G, 'node_type')\n",
        "  plt.figure(figsize=(8, 8))\n",
        "  nx.draw(G, pos=pos, cmap=plt.get_cmap('coolwarm'), node_color=node_color, edge_color=colors, labels=labels, font_color='white')\n",
        "  show()"
      ],
      "execution_count": null,
      "outputs": []
    },
    {
      "cell_type": "markdown",
      "metadata": {
        "id": "QRANkF1jRxLV"
      },
      "source": [
        "where we differentiate edges within each clubs (2 types) and edges between the two clubs (1 type). Different types of nodes and edges are visualized in different colors. The NetworkX object `G` in following code can be transformed into `deepsnap.hetero_graph.HeteroGraph` directly."
      ]
    },
    {
      "cell_type": "markdown",
      "metadata": {
        "id": "4DW8L0hxbxw4"
      },
      "source": [
        "## Transforming to DeepSNAP representation\n",
        "\n",
        "We will now work through transforming the NetworkX object `G` into a `deepsnap.hetero_graph.HeteroGraph`."
      ]
    },
    {
      "cell_type": "code",
      "metadata": {
        "id": "-ZfHZ_eoVVGd"
      },
      "source": [
        "from deepsnap.hetero_graph import HeteroGraph\n",
        "\n",
        "if 'IS_GRADESCOPE_ENV' not in os.environ:\n",
        "  hete = HeteroGraph(G_orig)"
      ],
      "execution_count": null,
      "outputs": []
    },
    {
      "cell_type": "markdown",
      "metadata": {
        "id": "izq4t_O9WxDH"
      },
      "source": [
        "## Question 1.3: How many nodes are of each type (10 Points)\n"
      ]
    },
    {
      "cell_type": "code",
      "metadata": {
        "id": "wRNSP6nnW78C"
      },
      "source": [
        "def get_nodes_per_type(hete):\n",
        "  # TODO: Implement a function that takes a DeepSNAP dataset object\n",
        "  # and return the number of nodes per `node_type`.\n",
        "\n",
        "  num_nodes_n0 = 0\n",
        "  num_nodes_n1 = 0\n",
        "\n",
        "  ############# Your code here ############\n",
        "  ## (~2 line of code)\n",
        "  ## Note\n",
        "  ## 1. Colab autocomplete functionality might be useful. Explore the attributes of HeteroGraph class.\n",
        "\n",
        "  pass\n",
        "\n",
        "  #########################################\n",
        "\n",
        "  return num_nodes_n0, num_nodes_n1\n",
        "\n",
        "if 'IS_GRADESCOPE_ENV' not in os.environ:\n",
        "  num_nodes_n0, num_nodes_n1 = get_nodes_per_type(hete)\n",
        "  print(\"Node type n0 has {} nodes\".format(num_nodes_n0))\n",
        "  print(\"Node type n1 has {} nodes\".format(num_nodes_n1))"
      ],
      "execution_count": null,
      "outputs": []
    },
    {
      "cell_type": "markdown",
      "metadata": {
        "id": "vEsHJp2ZYaE2"
      },
      "source": [
        "## Question 1.4: Message Types - How many edges are of each message type (10 Points)\n",
        "\n",
        "When working with heterogenous graphs, as we have discussed before, we now work with heterogenous message types (i.e. different message types for the different `node_type` and `edge_type` combinations). For example, an edge of type `e0` connecting two nodes in club \"Mr. HI\" would have a message type of (`n0`, `e0`, `n0`). In this problem we will analyze how many edges in our graph are of each message type.\n",
        "\n",
        "**Hint**: If you want to learn more about what the different message types are try the call `hete.message_types`"
      ]
    },
    {
      "cell_type": "code",
      "metadata": {
        "id": "qobKuqbAYvJ7"
      },
      "source": [
        "def get_num_message_edges(hete):\n",
        "  # TODO: Implement this function that takes a DeepSNAP dataset object\n",
        "  # and return the number of edges for each message type.\n",
        "  # You should return a list of tuples as\n",
        "  # (message_type, num_edge)\n",
        "\n",
        "  message_type_edges = []\n",
        "\n",
        "  ############# Your code here ############\n",
        "  ## (~2 line of code)\n",
        "  ## Note\n",
        "  ## 1. Colab autocomplete functionality might be useful. Explore the attributes of HeteroGraph class.\n",
        "\n",
        "  pass\n",
        "\n",
        "  #########################################\n",
        "\n",
        "  return message_type_edges\n",
        "\n",
        "if 'IS_GRADESCOPE_ENV' not in os.environ:\n",
        "  message_type_edges = get_num_message_edges(hete)\n",
        "  for (message_type, num_edges) in message_type_edges:\n",
        "    print(\"Message type {} has {} edges\".format(message_type, num_edges))"
      ],
      "execution_count": null,
      "outputs": []
    },
    {
      "cell_type": "markdown",
      "metadata": {
        "id": "bjMVik1JbJ76"
      },
      "source": [
        "## Question 1.5: Dataset Splitting - How many nodes are in each dataset split? (10 Points)\n",
        "\n",
        "DeepSNAP has built in Dataset creation and splitting methods for heterogeneous graphs. Here we will create train, validation, and test datasets for a node prediction task and inspect the resulting subgraphs. Specifically, write a function that computes the number of nodes with a known label in each dataset split.\n"
      ]
    },
    {
      "cell_type": "code",
      "metadata": {
        "id": "Ct10Oh4gcqgD"
      },
      "source": [
        "from deepsnap.dataset import GraphDataset\n",
        "\n",
        "def compute_dataset_split_counts(datasets):\n",
        "  # TODO: Implement a function that takes a dict of datasets in the form\n",
        "  # {'train': dataset_train, 'val': dataset_val, 'test': dataset_test}\n",
        "  # and returns a dict mapping dataset names to the number of labeled\n",
        "  # nodes used for supervision in that respective dataset.\n",
        "\n",
        "  data_set_splits = {}\n",
        "\n",
        "  ############# Your code here ############\n",
        "  ## (~3 line of code)\n",
        "  ## Note\n",
        "  ## 1. The DeepSNAP `node_label_index` dictionary will be helpful.\n",
        "  ## 2. Remember to count both node_types\n",
        "  ## 3. Remember each dataset only has one graph that we need to access\n",
        "  ##    (i.e. dataset[0])\n",
        "\n",
        "  pass\n",
        "\n",
        "\n",
        "  #########################################\n",
        "\n",
        "  return data_set_splits\n",
        "\n",
        "if 'IS_GRADESCOPE_ENV' not in os.environ:\n",
        "  dataset = GraphDataset([hete], task='node')\n",
        "  # Splitting the dataset\n",
        "  dataset_train, dataset_val, dataset_test = dataset.split(transductive=True, split_ratio=[0.4, 0.3, 0.3])\n",
        "  datasets = {'train': dataset_train, 'val': dataset_val, 'test': dataset_test}\n",
        "\n",
        "  data_set_splits = compute_dataset_split_counts(datasets)\n",
        "  for dataset_name, num_nodes in data_set_splits.items():\n",
        "    print(\"{} dataset has {} nodes\".format(dataset_name, num_nodes))"
      ],
      "execution_count": null,
      "outputs": []
    },
    {
      "cell_type": "markdown",
      "metadata": {
        "id": "lFY2PaDbVKe4"
      },
      "source": [
        "## DeepSNAP Dataset Visualization\n",
        "\n",
        "We can now visualize the different nodes and edges used in each graph dataset split."
      ]
    },
    {
      "cell_type": "code",
      "metadata": {
        "id": "iiyEw-agbgV8"
      },
      "source": [
        "from deepsnap.dataset import GraphDataset\n",
        "\n",
        "if 'IS_GRADESCOPE_ENV' not in os.environ:\n",
        "  dataset = GraphDataset([hete], task='node')\n",
        "  # Splitting the dataset\n",
        "  dataset_train, dataset_val, dataset_test = dataset.split(transductive=True, split_ratio=[0.4, 0.3, 0.3])\n",
        "  titles = ['Train', 'Validation', 'Test']\n",
        "\n",
        "  for i, dataset in enumerate([dataset_train, dataset_val, dataset_test]):\n",
        "    n0 = hete._convert_to_graph_index(dataset[0].node_label_index['n0'], 'n0').tolist()\n",
        "    n1 = hete._convert_to_graph_index(dataset[0].node_label_index['n1'], 'n1').tolist()\n",
        "\n",
        "    plt.figure(figsize=(7, 7))\n",
        "    plt.title(titles[i])\n",
        "    nx.draw(G_orig, pos=pos, node_color=\"grey\", edge_color=colors, labels=labels, font_color='white')\n",
        "    nx.draw_networkx_nodes(G_orig.subgraph(n0), pos=pos, node_color=\"blue\")\n",
        "    nx.draw_networkx_nodes(G_orig.subgraph(n1), pos=pos, node_color=\"red\")\n",
        "    show()"
      ],
      "execution_count": null,
      "outputs": []
    },
    {
      "cell_type": "markdown",
      "metadata": {
        "id": "e5LsVSRuI3hU"
      },
      "source": [
        "# 2) Heterogeneous Graph Node Property Prediction\n",
        "\n",
        "Now, we will use PyTorch Geometric and DeepSNAP to implement a GNN model for heterogeneous graph node property prediction (node classification). We will draw upon our understanding of heterogeneous graphs from lecture and previous work in implementing GNN layers using PyG (introduced in Colab 3).\n",
        "\n",
        "First let's take a look at the general structure of a heterogeneous GNN layer by working through an example:\n",
        "\n",
        "Let's assume we have a graph $G$, which contains two node types $a$ and $b$, and three message types $m_1=(a, r_1, a)$, $m_2=(a, r_2, b)$ and $m_3=(a, r_3, b)$. Note: during message passing we view each message as (src, relation, dst), where messages \"flow\" from src to dst node types. For example, during message passing, updating node type $b$ relies on two different message types $m_2$ and $m_3$.\n",
        "\n",
        "When applying message passing in heterogenous graphs, we seperately apply message passing over each message type. Therefore, for the graph $G$, a heterogeneous GNN layer contains three seperate Heterogeneous Message Passing layers (`HeteroGNNConv` in this Colab), where each `HeteroGNNConv` layer performs message passing and aggregation with respect to *only one message type*. Since a message type is viewed as (src, relation, dst) and messages \"flow\" from src to dst, each `HeteroGNNConv` layer only computes embeddings for the *dst* nodes of a given message type. For example, the `HeteroGNNConv` layer for message type $m_2$ outputs updated embedding representations *only* for node's with type b.\n",
        "\n",
        "---\n",
        "\n",
        "An overview of the heterogeneous layer we will create is shown below:\n",
        "\n",
        "![test](https://drive.google.com/uc?export=view&id=1mkp4OeRrvC4iNFTXSywrmI6Pfl5J__gA)\n",
        "\n",
        "where we highlight the following notation:\n",
        "\n",
        "- $H_a^{(l)[m_1]}$ is the intermediate matrix of of node embeddings for node type $a$, generated by the $l$th `HeteroGNNConv` layer for message type $m_1$.\n",
        "- $H_a^{(l)}$ is the matrix with current embeddings for nodes of type $a$ after the $l$th layer of our Heterogeneous GNN model. Note that these embeddings can rely on one or more intermediate `HeteroGNNConv` layer embeddings(i.e. $H_b^{(l)}$ combines $H_b^{(l)[m_2]}$ and $H_b^{(l)[m_3]}$).\n",
        "\n",
        "Since each `HeteroGNNConv` is only applied over a single message type, we additionally define a Heterogeneous GNN Wrapper layer (`HeteroGNNWrapperConv`). This wrapper manages and combines the output of each `HeteroGNNConv` layer in order to generate the complete updated node embeddings for each node type in layer $l$ of our model. More specifically, the $l^{th}$ `HeteroGNNWrapperConv` layer takes as input the node embeddings computed for each message type and node type (e.g. $H_b^{(l)[m_2]}$ and $H_b^{(l)[m_3]}$) and aggregates across message types with the same $dst$ node type. The resulting output of the $l^{th}$ `HeteroGNNWrapperConv` layer is the updated embedding matrix $H_i^{(l)}$ for each node type i.\n",
        "\n",
        "Continuing on our example above, to compute the node embeddings $H_b^{(l)}$ the wrapper layer aggregates output embeddings from the `HeteroGNNConv` layers associated with message types $m_2$ and $m_3$ (i.e. $H_b^{(l)[m_2]}$ and $H_b^{(l)[m_3]}$).\n",
        "\n",
        "---\n",
        "\n",
        "With the `HeteroGNNWrapperConv` module, we can now draw a \"simplified\" heterogeneous layer structure as follows:\n",
        "\n",
        "<br/>\n",
        "<center>\n",
        "<img src=\"http://web.stanford.edu/class/cs224w/images/colab4/hetero_conv_1.png\"/>\n",
        "</center>\n",
        "<br/>\n",
        "\n",
        "---\n",
        "**NOTE**:\n",
        "As reference, it may be helpful to additionally read through PyG's introduciton to heterogeneous graph representations and buidling heterogeneous GNN models: https://pytorch-geometric.readthedocs.io/en/latest/notes/heterogeneous.html"
      ]
    },
    {
      "cell_type": "markdown",
      "metadata": {
        "id": "rOTCyuRcJikS"
      },
      "source": [
        "<font color='red'>Looking ahead, we recommend you implement the heterogeneous GNN model in following steps:</font>\n",
        "\n",
        "1. Implement `HeteroGNNConv`.\n",
        "2. Implement **just** `mean` aggregation within `HeteroGNNWrapperConv`.\n",
        "3. Implement `generate_convs`.\n",
        "4. Implement the `HeteroGNN` model and the `train` function.\n",
        "5. Train the model with `mean` aggregation and test your model to make sure your model has reasonable performance.\n",
        "6. Once you are confident in your mean aggregation model, implement `attn` aggregation in `HeteroGNNWrapperConv`.\n",
        "7. Train the model with `attn` aggregation and test your model to make sure your model has reasonable performance.\n",
        "\n",
        "Note: The key point of advice is to work completely through implementing the mean aggregation heterogeneous GNN model before diving into the more difficult attention based model."
      ]
    },
    {
      "cell_type": "markdown",
      "metadata": {
        "id": "pkFjcktiJJLm"
      },
      "source": [
        "## Setup"
      ]
    },
    {
      "cell_type": "code",
      "metadata": {
        "id": "NAm9_OcJJJ-W"
      },
      "source": [
        "import copy\n",
        "import torch\n",
        "import deepsnap\n",
        "import numpy as np\n",
        "import torch.nn as nn\n",
        "import torch.nn.functional as F\n",
        "import torch_geometric.nn as pyg_nn\n",
        "\n",
        "from sklearn.metrics import f1_score\n",
        "from deepsnap.hetero_gnn import forward_op\n",
        "from deepsnap.hetero_graph import HeteroGraph\n",
        "from torch_sparse import SparseTensor, matmul"
      ],
      "execution_count": null,
      "outputs": []
    },
    {
      "cell_type": "markdown",
      "metadata": {
        "id": "n2prITo3JSbo"
      },
      "source": [
        "## Dataset\n",
        "\n",
        "You need to login to your Google account and enter the verification code below."
      ]
    },
    {
      "cell_type": "code",
      "metadata": {
        "id": "QvQwxJX4JTJX"
      },
      "source": [
        "if 'IS_GRADESCOPE_ENV' not in os.environ:\n",
        "  from pydrive.auth import GoogleAuth\n",
        "  from pydrive.drive import GoogleDrive\n",
        "  from google.colab import auth\n",
        "  from oauth2client.client import GoogleCredentials\n",
        "\n",
        "  # Authenticate and create the PyDrive client\n",
        "  auth.authenticate_user()\n",
        "  gauth = GoogleAuth()\n",
        "  gauth.credentials = GoogleCredentials.get_application_default()\n",
        "  drive = GoogleDrive(gauth)"
      ],
      "execution_count": null,
      "outputs": []
    },
    {
      "cell_type": "code",
      "metadata": {
        "id": "Igoy4F_xJbVn"
      },
      "source": [
        "if 'IS_GRADESCOPE_ENV' not in os.environ:\n",
        "  id='1ivlxd6lJMcZ9taS44TMGG72x2V1GeVvk'\n",
        "  downloaded = drive.CreateFile({'id': id})\n",
        "  downloaded.GetContentFile('acm.pkl')"
      ],
      "execution_count": null,
      "outputs": []
    },
    {
      "cell_type": "markdown",
      "metadata": {
        "id": "VBlboS5kJmJL"
      },
      "source": [
        "## Implementing `HeteroGNNConv`\n",
        "\n",
        "Now let's start working on our own implementation of the heterogeneous message passing layer (`HeteroGNNConv`)! Just as in Colabs 3 and 4, we will implement the layer using PyTorch Geometric.\n",
        "\n",
        "At a high level, the `HeteroGNNConv` layer is equivalent to the homogenous GNN layers we implemented in Colab 3, but now applied to an individual heterogeous message type. Moreover, our heterogeneous GNN layer draws directly from the **GraphSAGE** message passing model ([Hamilton et al. (2017)](https://arxiv.org/abs/1706.02216)).\n",
        "\n",
        "We begin by defining the `HeteroGNNConv` layer with respect to message type $m$:\n",
        "\n",
        "\\begin{equation}\n",
        "m =(s, r, d)\n",
        "\\end{equation}\n",
        "\n",
        "where each message type is a tuple containing three elements: $s$ - the source node type, $r$ - the edge (relation) type, and $d$ - the destination node type.\n",
        "\n",
        "The message passing update rule that we implement is very similar to that of GraphSAGE, except we now need to include the node types and the edge relation type. The update rule for message type $m$ is described below:\n",
        "\n",
        "\\begin{equation}\n",
        "h_v^{(l)[m]} = W^{(l)[m]} \\cdot \\text{CONCAT} \\Big( W_d^{(l)[m]} \\cdot h_v^{(l-1)}, W_s^{(l)[m]} \\cdot AGG(\\{h_u^{(l-1)}, \\forall u \\in N_{m}(v) \\})\\Big)\n",
        "\\end{equation}\n",
        "\n",
        "where we compute $h_v^{(l)[m]}$, the node embedding representation for node $v$ after `HeteroGNNConv` layer $l$ with respect message type $m$. Further unpacking the forumla we have:\n",
        "- $W_s^{(l)[m]}$ - linear transformation matrix for the messages of neighboring source nodes of type $s$ along message type $m$.\n",
        "- $W_d^{(l)[m]}$ - linear transformation matrix for the message from the node $v$ itself of type $d$.\n",
        "- $W^{(l)[m]}$ - linear transformation matrix for the concatenated messages from neighboring node's and the central node.\n",
        "- $h_u^{(l-1)}$ - the hidden embedding representation for node $u$ after the $(l-1)$th `HeteroGNNWrapperConv` layer. Note, that this embedding is not associated with a particular message type (see layer diagrams above).\n",
        "- $N_{m}(v)$ - the set of neighbor source nodes $s$ for the node v that we are embedding along message type $m = (s, r, d)$.\n",
        "\n",
        "**NOTE**: We emphasize that each weight matrix is associated with a specific message type $[m]$ and additionally, the weight matrices applied to node messages are differentiated by node type (i.e. $W_s$ and $W_d$).\n",
        "\n",
        "Lastly, for simplicity, we use mean aggregations for $AGG$ where:\n",
        "\n",
        "\\begin{equation}\n",
        "AGG(\\{h_u^{(l-1)}, \\forall u \\in N_{m}(v) \\}) = \\frac{1}{|N_{m}(v)|} \\sum_{u\\in N_{m}(v)} h_u^{(l-1)}\n",
        "\\end{equation}"
      ]
    },
    {
      "cell_type": "code",
      "metadata": {
        "id": "_Z1b0Mf8Jova"
      },
      "source": [
        "class HeteroGNNConv(pyg_nn.MessagePassing):\n",
        "    def __init__(self, in_channels_src, in_channels_dst, out_channels):\n",
        "        super(HeteroGNNConv, self).__init__(aggr=\"mean\")\n",
        "\n",
        "        self.in_channels_src = in_channels_src\n",
        "        self.in_channels_dst = in_channels_dst\n",
        "        self.out_channels = out_channels\n",
        "\n",
        "        # To simplify implementation, please initialize both self.lin_dst\n",
        "        # and self.lin_src out_features to out_channels\n",
        "        self.lin_dst = None\n",
        "        self.lin_src = None\n",
        "\n",
        "        self.lin_update = None\n",
        "\n",
        "        ############# Your code here #############\n",
        "        ## (~3 lines of code)\n",
        "        ## Note:\n",
        "        ## 1. Initialize the 3 linear layers.\n",
        "        ## 2. Think through the connection between the mathematical\n",
        "        ##    definition of the update rule and torch linear layers!\n",
        "\n",
        "        pass\n",
        "\n",
        "\n",
        "        ##########################################\n",
        "\n",
        "    def forward(\n",
        "        self,\n",
        "        node_feature_src,\n",
        "        node_feature_dst,\n",
        "        edge_index,\n",
        "        size=None\n",
        "    ):\n",
        "        ############# Your code here #############\n",
        "        ## (~1 line of code)\n",
        "        ## Note:\n",
        "        ## 1. Unlike Colabs 3 and 4, we just need to call self.propagate with\n",
        "        ## proper/custom arguments.\n",
        "\n",
        "        pass\n",
        "\n",
        "        ##########################################\n",
        "\n",
        "    def message_and_aggregate(self, edge_index, node_feature_src):\n",
        "\n",
        "        out = None\n",
        "        ############# Your code here #############\n",
        "        ## (~1 line of code)\n",
        "        ## Note:\n",
        "        ## 1. Different from what we implemented in Colabs 3 and 4, we use message_and_aggregate\n",
        "        ##    to combine the previously seperate message and aggregate functions.\n",
        "        ##    The benefit is that we can avoid materializing x_i and x_j\n",
        "        ##    to make the implementation more efficient.\n",
        "        ## 2. To implement efficiently, refer to PyG documentation for message_and_aggregate\n",
        "        ##    and sparse-matrix multiplication:\n",
        "        ##    https://pytorch-geometric.readthedocs.io/en/latest/notes/sparse_tensor.html\n",
        "        ## 3. Here edge_index is torch_sparse SparseTensor. Although interesting, you\n",
        "        ##    do not need to deeply understand SparseTensor represenations!\n",
        "        ## 4. Conceptually, think through how the message passing and aggregation\n",
        "        ##    expressed mathematically can be expressed through matrix multiplication.\n",
        "\n",
        "        pass\n",
        "\n",
        "\n",
        "        ##########################################\n",
        "\n",
        "        return out\n",
        "\n",
        "    def update(self, aggr_out, node_feature_dst):\n",
        "\n",
        "        ############# Your code here #############\n",
        "        ## (~4 lines of code)\n",
        "        ## Note:\n",
        "        ## 1. The update function is called after message_and_aggregate\n",
        "        ## 2. Think through the one-one connection between the mathematical update\n",
        "        ##    rule and the 3 linear layers defined in the constructor.\n",
        "\n",
        "       pass\n",
        "\n",
        "\n",
        "        ##########################################\n",
        "\n",
        "        return aggr_out"
      ],
      "execution_count": null,
      "outputs": []
    },
    {
      "cell_type": "markdown",
      "metadata": {
        "id": "aKq8ScTiJthn"
      },
      "source": [
        "## Heterogeneous GNN Wrapper Layer\n",
        "\n",
        "After implementing the `HeteroGNNConv` layer for each message type, we need to manage and aggregate the node embedding results (with respect to each message types). Here we will implement two types of message type level aggregation.\n",
        "\n",
        "The first one is simply mean aggregation over message types:\n",
        "\n",
        "\\begin{equation}\n",
        "h_v^{(l)} = \\frac{1}{M}\\sum_{m=1}^{M}h_v^{(l)[m]}\n",
        "\\end{equation}\n",
        "\n",
        "where node $v$ has node type $d$ and we sum over the $M$ message types that have destination node type $d$. From our original example, for a node v of type $b$ we aggregate v's `HeteroGNNConv` embeddings for message types $m_2$ and $m_3$ (i.e. $h_v^{(l)[m_2]}$ and $h_v^{(l)[m_3]}$).\n",
        "\n",
        "The second method we implement is the semantic level attention introduced in **HAN** ([Wang et al. (2019)](https://arxiv.org/abs/1903.07293)). Instead of directly averaging on the message type aggregation results, we use attention to learn which message type result is more important, then aggregate across all the message types. Below are the equations for semantic level attention:\n",
        "\n",
        "\\begin{equation}\n",
        "e_{m} = \\frac{1}{|V_{d}|} \\sum_{v \\in V_{d}} q_{attn}^T \\cdot tanh \\Big( W_{attn}^{(l)} \\cdot h_v^{(l)[m]} + b \\Big)\n",
        "\\end{equation}\n",
        "\n",
        "where $m$ is the message type and $d$ refers to the destination node type for that message ($m = (s, r, d)$). Additionally, $V_{d}$ refers to the set of nodes v with type $d$. Lastly, the unormalized attention weight $e_m$ is a scaler computed for each message type $m$.\n",
        "\n",
        "Next, we can compute the normalized attention weights and update $h_v^{(l)}$:\n",
        "\n",
        "\\begin{equation}\n",
        "\\alpha_{m} = \\frac{\\exp(e_{m})}{\\sum_{m=1}^M \\exp(e_{m})}\n",
        "\\end{equation}\n",
        "\n",
        "\\begin{equation}\n",
        "h_v^{(l)} = \\sum_{m=1}^{M} \\alpha_{m} \\cdot h_v^{(l)[m]}\n",
        "\\end{equation}\n",
        "\n",
        ", where we emphasize that $M$ here is the number of message types associated with the destination node type $d$.\n",
        "\n",
        "**Note**: The implementation of the attention aggregation is tricky and nuanced. We strongly recommend working carefully through the math equations to undersatnd exactly what each notation refers to and how all the pieces fit together. If you can, try to connect the math to our original example, focusing on node type $b$, which depends on two different message types!\n",
        "\n",
        "**_We've implemented most of this for you but you'll need to initialize self.attn_proj in the initializer_**"
      ]
    },
    {
      "cell_type": "code",
      "metadata": {
        "id": "0_bun02xJwFm"
      },
      "source": [
        "class HeteroGNNWrapperConv(deepsnap.hetero_gnn.HeteroConv):\n",
        "    def __init__(self, convs, args, aggr=\"mean\"):\n",
        "        super(HeteroGNNWrapperConv, self).__init__(convs, None)\n",
        "        self.aggr = aggr\n",
        "\n",
        "        # Map the index and message type\n",
        "        self.mapping = {}\n",
        "\n",
        "        # A numpy array that stores the final attention probability\n",
        "        self.alpha = None\n",
        "\n",
        "        self.attn_proj = None\n",
        "\n",
        "        if self.aggr == \"attn\":\n",
        "            ############# Your code here #############\n",
        "            ## (~1 line of code)\n",
        "            ## Note:\n",
        "            ## 1. Initialize self.attn_proj, where self.attn_proj should include\n",
        "            ##    two linear layers. Note, make sure you understand\n",
        "            ##    which part of the equation self.attn_proj captures.\n",
        "            ## 2. You should use nn.Sequential for self.attn_proj\n",
        "            ## 3. nn.Linear and nn.Tanh are useful.\n",
        "            ## 4. You can model a weight vector (rather than matrix) by using:\n",
        "            ##    nn.Linear(some_size, 1, bias=False).\n",
        "            ## 5. The first linear layer should have out_features as args['attn_size']\n",
        "            ## 6. You can assume we only have one \"head\" for the attention.\n",
        "            ## 7. We recommend you to implement the mean aggregation first. After\n",
        "            ##    the mean aggregation works well in the training, then you can\n",
        "            ##    implement this part.\n",
        "\n",
        "            pass\n",
        "\n",
        "            ##########################################\n",
        "\n",
        "    def reset_parameters(self):\n",
        "        super(HeteroConvWrapper, self).reset_parameters()\n",
        "        if self.aggr == \"attn\":\n",
        "            for layer in self.attn_proj.children():\n",
        "                layer.reset_parameters()\n",
        "\n",
        "    def forward(self, node_features, edge_indices):\n",
        "        message_type_emb = {}\n",
        "        for message_key, message_type in edge_indices.items():\n",
        "            src_type, edge_type, dst_type = message_key\n",
        "            node_feature_src = node_features[src_type]\n",
        "            node_feature_dst = node_features[dst_type]\n",
        "            edge_index = edge_indices[message_key]\n",
        "            message_type_emb[message_key] = (\n",
        "                self.convs[message_key](\n",
        "                    node_feature_src,\n",
        "                    node_feature_dst,\n",
        "                    edge_index,\n",
        "                )\n",
        "            )\n",
        "        node_emb = {dst: [] for _, _, dst in message_type_emb.keys()}\n",
        "        mapping = {}\n",
        "        for (src, edge_type, dst), item in message_type_emb.items():\n",
        "            mapping[len(node_emb[dst])] = (src, edge_type, dst)\n",
        "            node_emb[dst].append(item)\n",
        "        self.mapping = mapping\n",
        "        for node_type, embs in node_emb.items():\n",
        "            if len(embs) == 1:\n",
        "                node_emb[node_type] = embs[0]\n",
        "            else:\n",
        "                node_emb[node_type] = self.aggregate(embs)\n",
        "        return node_emb\n",
        "\n",
        "    def aggregate(self, xs):\n",
        "        # TODO: Implement this function that aggregates all message type results.\n",
        "        # Here, xs is a list of tensors (embeddings) with respect to message\n",
        "        # type aggregation results.\n",
        "\n",
        "        if self.aggr == \"mean\":\n",
        "\n",
        "            ############# Your code here #############\n",
        "            ## (~2 lines of code)\n",
        "            ## Note:\n",
        "            ## 1. Explore the function parameter `xs`!\n",
        "\n",
        "            pass\n",
        "\n",
        "            ##########################################\n",
        "\n",
        "        elif self.aggr == \"attn\":\n",
        "            N = xs[0].shape[0] # Number of nodes for that node type\n",
        "            M = len(xs) # Number of message types for that node type\n",
        "\n",
        "            x = torch.cat(xs, dim=0).view(M, N, -1) # M * N * D\n",
        "            z = self.attn_proj(x).view(M, N) # M * N * 1\n",
        "            z = z.mean(1) # M * 1\n",
        "            alpha = torch.softmax(z, dim=0) # M * 1\n",
        "\n",
        "            # Store the attention result to self.alpha as np array\n",
        "            self.alpha = alpha.view(-1).data.cpu().numpy()\n",
        "\n",
        "            alpha = alpha.view(M, 1, 1)\n",
        "            x = x * alpha\n",
        "            return x.sum(dim=0)"
      ],
      "execution_count": null,
      "outputs": []
    },
    {
      "cell_type": "markdown",
      "metadata": {
        "id": "tn_pnCOKJw-d"
      },
      "source": [
        "## Initialize Heterogeneous GNN Layers\n",
        "\n",
        "Now let's put it all together and initialize the Heterogeneous GNN Layers. Different from the homogeneous graph case, heterogeneous graphs can be a little bit complex.\n",
        "\n",
        "In general, we need to create a dictionary of `HeteroGNNConv` layers where the keys are message types.\n",
        "\n",
        "* To get all message types, `deepsnap.hetero_graph.HeteroGraph.message_types` is useful.\n",
        "* If we are initializing the first conv layers, we need to get the feature dimension of each node type. Using `deepsnap.hetero_graph.HeteroGraph.num_node_features(node_type)` will return the node feature dimension of `node_type`. In this function, we will set each `HeteroGNNConv` `out_channels` to be `hidden_size`.\n",
        "* If we are not initializing the first conv layers, all node types will have the smae embedding dimension `hidden_size` and we still set `HeteroGNNConv` `out_channels` to be `hidden_size` for simplicity.\n",
        "\n"
      ]
    },
    {
      "cell_type": "code",
      "metadata": {
        "id": "hSBImHClJzf4"
      },
      "source": [
        "def generate_convs(hetero_graph, conv, hidden_size, first_layer=False):\n",
        "    # TODO: Implement this function that returns a dictionary of `HeteroGNNConv`\n",
        "    # layers where the keys are message types. `hetero_graph` is deepsnap `HeteroGraph`\n",
        "    # object and the `conv` is the `HeteroGNNConv`.\n",
        "\n",
        "    convs = {}\n",
        "\n",
        "    ############# Your code here #############\n",
        "    ## (~9 lines of code)\n",
        "    ## Note:\n",
        "    ## 1. See the hints above!\n",
        "    ## 2. conv is of type `HeteroGNNConv`\n",
        "\n",
        "    pass\n",
        "\n",
        "\n",
        "    ##########################################\n",
        "\n",
        "    return convs"
      ],
      "execution_count": null,
      "outputs": []
    },
    {
      "cell_type": "markdown",
      "metadata": {
        "id": "U39dX8EpJ3FG"
      },
      "source": [
        "## HeteroGNN\n",
        "\n",
        "Now we will make a simple HeteroGNN model which contains only two `HeteroGNNWrapperConv` layers.\n",
        "\n",
        "For the forward function in `HeteroGNN`, the model is going to be run as following:\n",
        "\n",
        "$\\text{self.convs1} \\rightarrow \\text{self.bns1} \\rightarrow \\text{self.relus1} \\rightarrow \\text{self.convs2} \\rightarrow \\text{self.bns2} \\rightarrow \\text{self.relus2} \\rightarrow \\text{self.post_mps}$"
      ]
    },
    {
      "cell_type": "code",
      "metadata": {
        "id": "rplknA8aJ6J5"
      },
      "source": [
        "class HeteroGNN(torch.nn.Module):\n",
        "    def __init__(self, hetero_graph, args, aggr=\"mean\"):\n",
        "        super(HeteroGNN, self).__init__()\n",
        "\n",
        "        self.aggr = aggr\n",
        "        self.hidden_size = args['hidden_size']\n",
        "\n",
        "        self.convs1 = None\n",
        "        self.convs2 = None\n",
        "\n",
        "        self.bns1 = nn.ModuleDict()\n",
        "        self.bns2 = nn.ModuleDict()\n",
        "        self.relus1 = nn.ModuleDict()\n",
        "        self.relus2 = nn.ModuleDict()\n",
        "        self.post_mps = nn.ModuleDict()\n",
        "\n",
        "        ############# Your code here #############\n",
        "        ## (~10 lines of code)\n",
        "        ## Note:\n",
        "        ## 1. For self.convs1 and self.convs2, call generate_convs at first and then\n",
        "        ##    pass the returned dictionary of `HeteroGNNConv` to `HeteroGNNWrapperConv`.\n",
        "        ## 2. For self.bns, self.relus and self.post_mps, the keys are node_types.\n",
        "        ##    `deepsnap.hetero_graph.HeteroGraph.node_types` will be helpful.\n",
        "        ## 3. Initialize all batchnorms to torch.nn.BatchNorm1d(hidden_size, eps=1).\n",
        "        ## 4. Initialize all relus to nn.LeakyReLU().\n",
        "        ## 5. For self.post_mps, each value in the ModuleDict is a linear layer\n",
        "        ##    where the `out_features` is the number of classes for that node type.\n",
        "        ##    `deepsnap.hetero_graph.HeteroGraph.num_node_labels(node_type)` will be\n",
        "        ##    useful.\n",
        "\n",
        "        pass\n",
        "\n",
        "\n",
        "        ##########################################\n",
        "\n",
        "    def forward(self, node_feature, edge_index):\n",
        "        # TODO: Implement the forward function. Notice that `node_feature` is\n",
        "        # a dictionary of tensors where keys are node types and values are\n",
        "        # corresponding feature tensors. The `edge_index` is a dictionary of\n",
        "        # tensors where keys are message types and values are corresponding\n",
        "        # edge index tensors (with respect to each message type).\n",
        "\n",
        "        x = node_feature\n",
        "\n",
        "        ############# Your code here #############\n",
        "        ## (~7 lines of code)\n",
        "        ## Note:\n",
        "        ## 1. `deepsnap.hetero_gnn.forward_op` can be helpful.\n",
        "\n",
        "        pass\n",
        "\n",
        "\n",
        "        ##########################################\n",
        "\n",
        "        return x\n",
        "\n",
        "    def loss(self, preds, y, indices):\n",
        "\n",
        "        loss = 0\n",
        "        loss_func = F.cross_entropy\n",
        "\n",
        "        ############# Your code here #############\n",
        "        ## (~3 lines of code)\n",
        "        ## Note:\n",
        "        ## 1. For each node type in preds, accumulate computed loss to `loss`\n",
        "        ## 2. Loss need to be computed with respect to the given index\n",
        "        ## 3. preds is a dictionary of model predictions keyed by node_type.\n",
        "        ## 4. indeces is a dictionary of labeled supervision nodes keyed\n",
        "        ##    by node_type\n",
        "\n",
        "        pass\n",
        "\n",
        "\n",
        "        ##########################################\n",
        "\n",
        "        return loss"
      ],
      "execution_count": null,
      "outputs": []
    },
    {
      "cell_type": "markdown",
      "metadata": {
        "id": "o9e7q_hUJ8zB"
      },
      "source": [
        "## Training and Testing\n",
        "\n",
        "Here we provide you with the functions to train and test. You only need to implement one line of code here.\n",
        "\n",
        "**Please do not modify other parts in `train` and `test` for grading purposes.**"
      ]
    },
    {
      "cell_type": "code",
      "metadata": {
        "id": "CI5Hl_5TJ_YL"
      },
      "source": [
        "import pandas as pd\n",
        "\n",
        "def train(model, optimizer, hetero_graph, train_idx):\n",
        "    model.train()\n",
        "    optimizer.zero_grad()\n",
        "    preds = model(hetero_graph.node_feature, hetero_graph.edge_index)\n",
        "\n",
        "    loss = None\n",
        "\n",
        "    ############# Your code here #############\n",
        "    ## Note:\n",
        "    ## 1. Compute the loss here\n",
        "    ## 2. `deepsnap.hetero_graph.HeteroGraph.node_label` is useful\n",
        "\n",
        "    pass\n",
        "\n",
        "\n",
        "    ##########################################\n",
        "\n",
        "    loss.backward()\n",
        "    optimizer.step()\n",
        "    return loss.item()\n",
        "\n",
        "def test(model, graph, indices, best_model=None, best_val=0, save_preds=False, agg_type=None):\n",
        "    model.eval()\n",
        "    accs = []\n",
        "    for i, index in enumerate(indices):\n",
        "        preds = model(graph.node_feature, graph.edge_index)\n",
        "        num_node_types = 0\n",
        "        micro = 0\n",
        "        macro = 0\n",
        "        for node_type in preds:\n",
        "            idx = index[node_type]\n",
        "            pred = preds[node_type][idx]\n",
        "            pred = pred.max(1)[1]\n",
        "            label_np = graph.node_label[node_type][idx].cpu().numpy()\n",
        "            pred_np = pred.cpu().numpy()\n",
        "            micro = f1_score(label_np, pred_np, average='micro')\n",
        "            macro = f1_score(label_np, pred_np, average='macro')\n",
        "            num_node_types += 1\n",
        "\n",
        "        # Averaging f1 score might not make sense, but in our example we only\n",
        "        # have one node type\n",
        "        micro /= num_node_types\n",
        "        macro /= num_node_types\n",
        "        accs.append((micro, macro))\n",
        "\n",
        "        # Only save the test set predictions and labels!\n",
        "        if save_preds and i == 2:\n",
        "          print (\"Saving Heterogeneous Node Prediction Model Predictions with Agg:\", agg_type)\n",
        "          print()\n",
        "\n",
        "          data = {}\n",
        "          data['pred'] = pred_np\n",
        "          data['label'] = label_np\n",
        "\n",
        "          df = pd.DataFrame(data=data)\n",
        "          # Save locally as csv\n",
        "          df.to_csv('ACM-Node-' + agg_type + 'Agg.csv', sep=',', index=False)\n",
        "\n",
        "    if accs[1][0] > best_val:\n",
        "        best_val = accs[1][0]\n",
        "        best_model = copy.deepcopy(model)\n",
        "    return accs, best_model, best_val"
      ],
      "execution_count": null,
      "outputs": []
    },
    {
      "cell_type": "code",
      "metadata": {
        "id": "DpNz9B5AKBUU"
      },
      "source": [
        "# Please do not change the following parameters\n",
        "args = {\n",
        "    'device': torch.device('cuda' if torch.cuda.is_available() else 'cpu'),\n",
        "    'hidden_size': 64,\n",
        "    'epochs': 100,\n",
        "    'weight_decay': 1e-5,\n",
        "    'lr': 0.003,\n",
        "    'attn_size': 32,\n",
        "}"
      ],
      "execution_count": null,
      "outputs": []
    },
    {
      "cell_type": "markdown",
      "metadata": {
        "id": "pRHbWD4hKED8"
      },
      "source": [
        "## Dataset and Preprocessing\n",
        "\n",
        "In the next, we will load the data and create a tensor backend (without a NetworkX graph) `deepsnap.hetero_graph.HeteroGraph` object.\n",
        "\n",
        "We will use the `ACM(3025)` dataset in our node property prediction task, which is proposed in **HAN** ([Wang et al. (2019)](https://arxiv.org/abs/1903.07293)) and our dataset is extracted from [DGL](https://www.dgl.ai/)'s [ACM.mat](https://data.dgl.ai/dataset/ACM.mat).\n",
        "\n",
        "The original ACM dataset has three node types and two edge (relation) types. For simplicity, we simplify the heterogeneous graph to one node type and two edge types (shown below). This means that in our heterogeneous graph, we have one node type (paper) and two message types (paper, author, paper) and (paper, subject, paper).\n",
        "\n",
        "<br/>\n",
        "<center>\n",
        "<img src=\"http://web.stanford.edu/class/cs224w/images/colab4/cs224w-acm.png\"/>\n",
        "</center>"
      ]
    },
    {
      "cell_type": "code",
      "metadata": {
        "id": "lJy03_IsKGh6"
      },
      "source": [
        "if 'IS_GRADESCOPE_ENV' not in os.environ:\n",
        "  print(\"Device: {}\".format(args['device']))\n",
        "\n",
        "  # Load the data\n",
        "  data = torch.load(\"acm.pkl\")\n",
        "\n",
        "  # Message types\n",
        "  message_type_1 = (\"paper\", \"author\", \"paper\")\n",
        "  message_type_2 = (\"paper\", \"subject\", \"paper\")\n",
        "\n",
        "  # Dictionary of edge indices\n",
        "  edge_index = {}\n",
        "  edge_index[message_type_1] = data['pap']\n",
        "  edge_index[message_type_2] = data['psp']\n",
        "\n",
        "  # Dictionary of node features\n",
        "  node_feature = {}\n",
        "  node_feature[\"paper\"] = data['feature']\n",
        "\n",
        "  # Dictionary of node labels\n",
        "  node_label = {}\n",
        "  node_label[\"paper\"] = data['label']\n",
        "\n",
        "  # Load the train, validation and test indices\n",
        "  train_idx = {\"paper\": data['train_idx'].to(args['device'])}\n",
        "  val_idx = {\"paper\": data['val_idx'].to(args['device'])}\n",
        "  test_idx = {\"paper\": data['test_idx'].to(args['device'])}\n",
        "\n",
        "  # Construct a deepsnap tensor backend HeteroGraph\n",
        "  hetero_graph = HeteroGraph(\n",
        "      node_feature=node_feature,\n",
        "      node_label=node_label,\n",
        "      edge_index=edge_index,\n",
        "      directed=True\n",
        "  )\n",
        "\n",
        "  print(f\"ACM heterogeneous graph: {hetero_graph.num_nodes()} nodes, {hetero_graph.num_edges()} edges\")\n",
        "\n",
        "  # Node feature and node label to device\n",
        "  for key in hetero_graph.node_feature:\n",
        "      hetero_graph.node_feature[key] = hetero_graph.node_feature[key].to(args['device'])\n",
        "  for key in hetero_graph.node_label:\n",
        "      hetero_graph.node_label[key] = hetero_graph.node_label[key].to(args['device'])\n",
        "\n",
        "  # Edge_index to sparse tensor and to device\n",
        "  for key in hetero_graph.edge_index:\n",
        "      edge_index = hetero_graph.edge_index[key]\n",
        "      adj = SparseTensor(row=edge_index[0], col=edge_index[1], sparse_sizes=(hetero_graph.num_nodes('paper'), hetero_graph.num_nodes('paper')))\n",
        "      hetero_graph.edge_index[key] = adj.t().to(args['device'])\n",
        "  print(hetero_graph.edge_index[message_type_1])\n",
        "  print(hetero_graph.edge_index[message_type_2])"
      ],
      "execution_count": null,
      "outputs": []
    },
    {
      "cell_type": "markdown",
      "metadata": {
        "id": "hrmU5-QQKJv6"
      },
      "source": [
        "## Start Training!\n",
        "\n",
        "Now lets start training!"
      ]
    },
    {
      "cell_type": "markdown",
      "metadata": {
        "id": "y0HplV9hKMkc"
      },
      "source": [
        "## Training the Mean Aggregation"
      ]
    },
    {
      "cell_type": "code",
      "metadata": {
        "id": "ZgwfyzLbKOUw"
      },
      "source": [
        "if 'IS_GRADESCOPE_ENV' not in os.environ:\n",
        "  best_model = None\n",
        "  best_val = 0\n",
        "\n",
        "  model = HeteroGNN(hetero_graph, args, aggr=\"mean\").to(args['device'])\n",
        "  optimizer = torch.optim.Adam(model.parameters(), lr=args['lr'], weight_decay=args['weight_decay'])\n",
        "\n",
        "  for epoch in range(args['epochs']):\n",
        "      loss = train(model, optimizer, hetero_graph, train_idx)\n",
        "      accs, best_model, best_val = test(model, hetero_graph, [train_idx, val_idx, test_idx], best_model, best_val)\n",
        "      print(\n",
        "          f\"Epoch {epoch + 1}: loss {round(loss, 5)}, \"\n",
        "          f\"train micro {round(accs[0][0] * 100, 2)}%, train macro {round(accs[0][1] * 100, 2)}%, \"\n",
        "          f\"valid micro {round(accs[1][0] * 100, 2)}%, valid macro {round(accs[1][1] * 100, 2)}%, \"\n",
        "          f\"test micro {round(accs[2][0] * 100, 2)}%, test macro {round(accs[2][1] * 100, 2)}%\"\n",
        "      )\n",
        "  best_accs, _, _ = test(best_model, hetero_graph, [train_idx, val_idx, test_idx], save_preds=True, agg_type=\"Mean\")\n",
        "  print(\n",
        "      f\"Best model: \"\n",
        "      f\"train micro {round(best_accs[0][0] * 100, 2)}%, train macro {round(best_accs[0][1] * 100, 2)}%, \"\n",
        "      f\"valid micro {round(best_accs[1][0] * 100, 2)}%, valid macro {round(best_accs[1][1] * 100, 2)}%, \"\n",
        "      f\"test micro {round(best_accs[2][0] * 100, 2)}%, test macro {round(best_accs[2][1] * 100, 2)}%\"\n",
        "  )"
      ],
      "execution_count": null,
      "outputs": []
    },
    {
      "cell_type": "markdown",
      "metadata": {
        "id": "rtkKBI_nKS1T"
      },
      "source": [
        "## Question 2.1: What is your maximum test set **micro** F1 score for the best_model when using mean aggregation? (10 points)\n"
      ]
    },
    {
      "cell_type": "markdown",
      "metadata": {
        "id": "AIvw51jMKTvn"
      },
      "source": [
        "## Question 2.2: What is your maximum test set **macro** F1 score for the best_model when using the mean aggregation? (10 points)\n"
      ]
    },
    {
      "cell_type": "markdown",
      "metadata": {
        "id": "JBiYvwcuKd0z"
      },
      "source": [
        "## Training the Attention Aggregation"
      ]
    },
    {
      "cell_type": "code",
      "metadata": {
        "id": "e6na5zyQKfvi"
      },
      "source": [
        "if 'IS_GRADESCOPE_ENV' not in os.environ:\n",
        "  best_model = None\n",
        "  best_val = 0\n",
        "\n",
        "  output_size = hetero_graph.num_node_labels('paper')\n",
        "  model = HeteroGNN(hetero_graph, args, aggr=\"attn\").to(args['device'])\n",
        "  optimizer = torch.optim.Adam(model.parameters(), lr=args['lr'], weight_decay=args['weight_decay'])\n",
        "\n",
        "  for epoch in range(args['epochs']):\n",
        "      loss = train(model, optimizer, hetero_graph, train_idx)\n",
        "      accs, best_model, best_val = test(model, hetero_graph, [train_idx, val_idx, test_idx], best_model, best_val)\n",
        "      print(\n",
        "          f\"Epoch {epoch + 1}: loss {round(loss, 5)}, \"\n",
        "          f\"train micro {round(accs[0][0] * 100, 2)}%, train macro {round(accs[0][1] * 100, 2)}%, \"\n",
        "          f\"valid micro {round(accs[1][0] * 100, 2)}%, valid macro {round(accs[1][1] * 100, 2)}%, \"\n",
        "          f\"test micro {round(accs[2][0] * 100, 2)}%, test macro {round(accs[2][1] * 100, 2)}%\"\n",
        "      )\n",
        "  best_accs, _, _ = test(best_model, hetero_graph, [train_idx, val_idx, test_idx], save_preds=True, agg_type=\"Attention\")\n",
        "  print(\n",
        "      f\"Best model: \"\n",
        "      f\"train micro {round(best_accs[0][0] * 100, 2)}%, train macro {round(best_accs[0][1] * 100, 2)}%, \"\n",
        "      f\"valid micro {round(best_accs[1][0] * 100, 2)}%, valid macro {round(best_accs[1][1] * 100, 2)}%, \"\n",
        "      f\"test micro {round(best_accs[2][0] * 100, 2)}%, test macro {round(best_accs[2][1] * 100, 2)}%\"\n",
        "  )"
      ],
      "execution_count": null,
      "outputs": []
    },
    {
      "cell_type": "markdown",
      "metadata": {
        "id": "mtAhFLQQKgbl"
      },
      "source": [
        "## Question 2.3: What is your maximum test set **micro** F1 score for the best_model when using the attention aggregation? (4 points)\n"
      ]
    },
    {
      "cell_type": "markdown",
      "metadata": {
        "id": "_cnsMGbsqJG_"
      },
      "source": [
        "## Question 2.4: What is your maximum test set **macro** F1 score for the best_model when using the attention aggregation? (4 points)\n"
      ]
    },
    {
      "cell_type": "markdown",
      "metadata": {
        "id": "aQgx5y4UqMHH"
      },
      "source": [
        "## Attention for each Message Type\n",
        "\n",
        "Through message type level attention we can learn which message type is more important to which layer.\n",
        "\n",
        "Here we will print out and show that each layer pay how much attention on each message type."
      ]
    },
    {
      "cell_type": "code",
      "metadata": {
        "id": "hvK58gijqN_C"
      },
      "source": [
        "if 'IS_GRADESCOPE_ENV' not in os.environ:\n",
        "  if model.convs1.alpha is not None and model.convs2.alpha is not None:\n",
        "      for idx, message_type in model.convs1.mapping.items():\n",
        "          print(f\"Layer 1 has attention {model.convs1.alpha[idx]} on message type {message_type}\")\n",
        "      for idx, message_type in model.convs2.mapping.items():\n",
        "          print(f\"Layer 2 has attention {model.convs2.alpha[idx]} on message type {message_type}\")"
      ],
      "execution_count": null,
      "outputs": []
    },
    {
      "cell_type": "markdown",
      "metadata": {
        "id": "e7JXsMTBgeOI"
      },
      "source": [
        "# Submission\n",
        "\n",
        "You will need to submit three files on Gradescope to complete this notebook.\n",
        "\n",
        "1.   Your completed *CS224W_Colab5.ipynb*. From the \"File\" menu select \"Download .ipynb\" to save a local copy of your completed Colab.\n",
        "2.  *ACM-Node-MeanAgg.csv*\n",
        "3.  *ACM-Node-AttentionAgg.csv*\n",
        "\n",
        "Download the csv files by selecting the *Folder* icon on the left panel.\n",
        "\n",
        "To submit your work, zip the files downloaded in steps 1-3 above and submit to gradescope. **NOTE:** DO NOT rename any of the downloaded files."
      ]
    }
  ]
}